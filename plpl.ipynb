{
  "nbformat": 4,
  "nbformat_minor": 0,
  "metadata": {
    "colab": {
      "provenance": [],
      "authorship_tag": "ABX9TyPQ/CIZ+5+48AN1R8Lojo7W",
      "include_colab_link": true
    },
    "kernelspec": {
      "name": "python3",
      "display_name": "Python 3"
    },
    "language_info": {
      "name": "python"
    }
  },
  "cells": [
    {
      "cell_type": "markdown",
      "metadata": {
        "id": "view-in-github",
        "colab_type": "text"
      },
      "source": [
        "<a href=\"https://colab.research.google.com/github/Kautelle/pl/blob/main/plpl.ipynb\" target=\"_parent\"><img src=\"https://colab.research.google.com/assets/colab-badge.svg\" alt=\"Open In Colab\"/></a>"
      ]
    },
    {
      "cell_type": "code",
      "execution_count": null,
      "metadata": {
        "id": "P1LmPj7o9ZD1"
      },
      "outputs": [],
      "source": [
        "import numpy as np\n",
        "import pandas as pd\n",
        "from scipy.optimize import linprog\n",
        "\n",
        "# Função objetiva\n",
        "c=[-5, -4]\n",
        "\n",
        "#Restrições de desigualdade\n",
        "A=[[10,12.5],[2,1]]\n",
        "b=[60,6]\n",
        "\n",
        "#Restriçoes de igualdade\n",
        "Aeq = None\n",
        "beq = None\n",
        "\n",
        "#definir os limites\n",
        "bounds = [(0, None)]*2\n",
        "\n",
        "#otimizar a solução\n",
        "res = linprog(c, A_ub=A, b_ub=b, A_eq = Aeq, b_eq = beq, bounds = bounds, method= 'highs')\n",
        "\n",
        "#resultado = linprog(função objetiva, A_ub = restrições de desigualdade chamadas de A,\n",
        "# b_ub = ao que são restritas, A_eq = restrições de igualdade, b_eq = ao que são restritas,\n",
        "# bound = definis os limites, method = metodo)\n",
        "\n",
        "\n",
        "\n",
        "# Criar um Data Frame para apresentar os dados \n",
        "\n",
        "df = pd.DataFrame ({'x1': [res.x[0]], 'x2': [res.x[1]], 'z':[-res.fun]})\n",
        "print(df)\n",
        "\n"
      ]
    },
    {
      "cell_type": "code",
      "source": [],
      "metadata": {
        "id": "fKuAFjs-UURo"
      },
      "execution_count": null,
      "outputs": []
    },
    {
      "cell_type": "code",
      "source": [
        "import numpy as np\n",
        "\n",
        "import pandas as pd\n",
        "\n",
        "from scipy.optimize import linprog\n",
        "\n",
        "\n",
        "\n",
        "\n",
        "#função objetivo\n",
        "\n",
        "c = [-2,-3,-4]\n",
        "\n",
        "\n",
        "\n",
        "\n",
        "#restrições de desigualdade\n",
        "\n",
        "A=[[1,1,1]]\n",
        "\n",
        "b=[30]\n",
        "\n",
        "\n",
        "\n",
        "\n",
        "#restrições de igualdade\n",
        "\n",
        "Aeq = [[2,2,3]]\n",
        "\n",
        "beq = [60]\n",
        "\n",
        "\n",
        "\n",
        "\n",
        "#definir os limites\n",
        "\n",
        "bounds = [(0, None)]*3\n",
        "\n",
        "\n",
        "\n",
        "\n",
        "res = linprog(c, A_ub = A, b_ub = b, A_eq = Aeq, b_eq = beq, bounds = bounds, method='highs')\n",
        "\n",
        "\n",
        "\n",
        "\n",
        "\n",
        "df = pd.DataFrame({'x1':[res.x[0]], 'x2':[res.x[1]], 'x3':[res.x[2]], 'Z':[-res.fun]})\n",
        "\n",
        "print(df)"
      ],
      "metadata": {
        "colab": {
          "base_uri": "https://localhost:8080/"
        },
        "id": "c4NLTzvxP6jr",
        "outputId": "dcb90b30-0abf-4df3-8b64-5d7dfae32a40"
      },
      "execution_count": 2,
      "outputs": [
        {
          "output_type": "stream",
          "name": "stdout",
          "text": [
            "    x1    x2   x3     Z\n",
            "0  0.0  30.0  0.0  90.0\n"
          ]
        }
      ]
    },
    {
      "cell_type": "code",
      "source": [
        "import numpy as np\n",
        "import pandas as pd\n",
        "from scipy.optimize import linprog\n",
        "\n",
        "#função objetiva\n",
        "c=[8,10]\n",
        "\n",
        "#restrições de desigualdade\n",
        "A=[[-1, 1], [-4,-5], [1,0], [0,-1]]\n",
        "b=[2,-20, 6, -4]\n",
        "\n",
        "#restroções de igualdade\n",
        "Aeq = None\n",
        "beq = None\n",
        "\n",
        "#definir os limites\n",
        "bounds = [(0,None)]*2\n",
        "\n",
        "#otimizar a solução\n",
        "res = linprog(c, A_ub=A, b_ub=b, A_eq=Aeq, b_eq=beq, bounds = bounds, method='highs')\n",
        "\n",
        "#criar um Data Frame para apresentar os dados\n",
        "if res.success:\n",
        "  df = pd.DataFrame({'x1':[res.x[0]], 'x2':[res.x[1]], 'z': [res.fun]})\n",
        "  print(df)\n",
        "else:\n",
        "  print(\"O problema não possui solução viável\")\n"
      ],
      "metadata": {
        "colab": {
          "base_uri": "https://localhost:8080/"
        },
        "id": "uH0D1IcgQhFB",
        "outputId": "11fddfc2-c8c0-4f21-d248-7e99496546ff"
      },
      "execution_count": 8,
      "outputs": [
        {
          "output_type": "stream",
          "name": "stdout",
          "text": [
            "    x1   x2     z\n",
            "0  2.0  4.0  56.0\n"
          ]
        }
      ]
    }
  ]
}